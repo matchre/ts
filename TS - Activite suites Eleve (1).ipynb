{
 "metadata": {
  "name": "",
  "signature": "sha256:260ae61a44743f982f7537b581bc1b7c9159e3c5d5873e02cf985d3e09ce5bd3"
 },
 "nbformat": 3,
 "nbformat_minor": 0,
 "worksheets": [
  {
   "cells": [
    {
     "cell_type": "heading",
     "level": 1,
     "metadata": {},
     "source": [
      "Activit\u00e9 d'algorithmique autour des suites"
     ]
    },
    {
     "cell_type": "markdown",
     "metadata": {},
     "source": [
      "Afin de pouvoir personnaliser votre classeur sans d\u00e9truire le classeur sur lequel travaille votre voisin, vous allez tout d'abord aller dans le menu **`File`** puis **`Make a copy...`**. Renommez le classeur en ajoutant votre nom \u00e0 la fin du nom de fichier par exemple."
     ]
    },
    {
     "cell_type": "heading",
     "level": 2,
     "metadata": {},
     "source": [
      "Prise de contact avec le langage et l'environnement"
     ]
    },
    {
     "cell_type": "markdown",
     "metadata": {},
     "source": [
      "Vous utilisez le langage Python. Il a l'avantage d'\u00eatre tr\u00e8s simple \u00e0 prendre en main et concis au niveau de sa syntaxe. Il est \u00e9galement tr\u00e8s proche du langage algorithmique naturel que nous utilisons en classe."
     ]
    },
    {
     "cell_type": "markdown",
     "metadata": {},
     "source": [
      "L'environnement que vous avez sous les yeux se nomme  iPython. Il fonctionne dans un navigateur internet et permet de m\u00e9langer des lignes de code Python et du texte. Ci-dessous se trouve une cellule de type ***code*** qui contient des instructions Python."
     ]
    },
    {
     "cell_type": "code",
     "collapsed": false,
     "input": [
      "n=0\n",
      "u=200"
     ],
     "language": "python",
     "metadata": {},
     "outputs": []
    },
    {
     "cell_type": "markdown",
     "metadata": {},
     "source": [
      "On peut alterner ainsi des paragraphes de texte donnant des explications et des portions de programme. Pour valider le contenu d'une cellule apr\u00e8s l'avoir modifi\u00e9e, on doit taper ***Maj - ENTREE***.\n",
      "C'est pour le moment tout ce que vous avez besoin de savoir.\n",
      "\n",
      "Appuyez donc sur ***Maj - ENTREE*** dans la cellule ci-dessous pour ex\u00e9cuter le code."
     ]
    },
    {
     "cell_type": "code",
     "collapsed": false,
     "input": [
      "n=0\n",
      "u=200\n",
      "\n",
      "for i in range(10):\n",
      "    u=1.2*u+10\n",
      "    n=n+1\n",
      "print(u)\n",
      "print(n)"
     ],
     "language": "python",
     "metadata": {},
     "outputs": []
    },
    {
     "cell_type": "markdown",
     "metadata": {},
     "source": [
      "Traduire dans la cellule ci-dessous le programme en langage algorithmique. Que calcule ce programme ?"
     ]
    },
    {
     "cell_type": "markdown",
     "metadata": {},
     "source": [
      "Saisissez votre r\u00e9ponse dans cette cellule ..."
     ]
    },
    {
     "cell_type": "heading",
     "level": 2,
     "metadata": {},
     "source": [
      "Activit\u00e9 autour de l'exercice des chamois"
     ]
    },
    {
     "cell_type": "markdown",
     "metadata": {},
     "source": [
      "On se rappelle de l'exercice des chamois dont l'objet \u00e9tait l'\u00e9tude d'une suite arithmetico-g\u00e9om\u00e9trique d\u00e9finie par :\n",
      "- $u_0=1000$\n",
      "- $u_{n+1}=0,8\\times u_n+120$"
     ]
    },
    {
     "cell_type": "heading",
     "level": 3,
     "metadata": {},
     "source": [
      "Question 1"
     ]
    },
    {
     "cell_type": "markdown",
     "metadata": {},
     "source": [
      "Modifier le programme ci-dessus pour donner la valeur de $u_{10}$"
     ]
    },
    {
     "cell_type": "markdown",
     "metadata": {},
     "source": [
      "Votre r\u00e9ponse : la valeur de $u_{10}$ est ..."
     ]
    },
    {
     "cell_type": "heading",
     "level": 3,
     "metadata": {},
     "source": [
      "Question 2 :"
     ]
    },
    {
     "cell_type": "markdown",
     "metadata": {},
     "source": [
      "On a d\u00e9finit une suite auxiliaire $(v_n)$ par $v_n=u_n-600$.\n",
      "Modifier le programme afin qu'il calcule et affiche \u00e9galement la valeur de $v_{10}$"
     ]
    },
    {
     "cell_type": "markdown",
     "metadata": {},
     "source": [
      "Votre r\u00e9ponse : la valeur de $v_{10}$ est ..."
     ]
    },
    {
     "cell_type": "heading",
     "level": 3,
     "metadata": {},
     "source": [
      "Question 3 : "
     ]
    },
    {
     "cell_type": "markdown",
     "metadata": {},
     "source": [
      "On cherche \u00e0 conjecturer ce que deviendra la population de chamois au fil du temps. En particulier, au bout d'un grand nombre d'ann\u00e9es, est-ce que la population va se d\u00e9velopper, s'\u00e9teindre ou se stabiliser.\n",
      "\n",
      "Pour cela modifier le programme pour conjecturer ce qui se passe au bout de 40 ans."
     ]
    },
    {
     "cell_type": "markdown",
     "metadata": {},
     "source": [
      "Votre r\u00e9ponse : Au bout de 40 ans, la population de chamois ...."
     ]
    },
    {
     "cell_type": "heading",
     "level": 3,
     "metadata": {},
     "source": [
      "Question 4 : "
     ]
    },
    {
     "cell_type": "markdown",
     "metadata": {},
     "source": [
      "On cherche \u00e0 savoir au bout de combien d'ann\u00e9es la population de chamois devient inf\u00e9rieure \u00e0 610 chamois. Pour cela, \u00e9crire ci-dessous un algorithme permettant de r\u00e9pondre au probl\u00e8me pos\u00e9."
     ]
    },
    {
     "cell_type": "markdown",
     "metadata": {},
     "source": [
      "*Initialisation*\n",
      "\n",
      "    u prend la valeur...\n",
      "*Traitement*\n",
      "\n",
      "    ...\n",
      "*Sortie*\n",
      "\n",
      "    Afficher ..."
     ]
    },
    {
     "cell_type": "heading",
     "level": 3,
     "metadata": {},
     "source": [
      "Question 5 :"
     ]
    },
    {
     "cell_type": "markdown",
     "metadata": {},
     "source": [
      "Ecrire ci-dessous le programme Python r\u00e9pondant \u00e0 la question pos\u00e9e. Vous aurez besoin pour cela de conna\u00eetre la syntaxe de l'instruction ***Tant que***.\n",
      "<PRE>\n",
      "while (condition)\n",
      "    Contenu du bloc tant-que\n",
      "</PRE>\n",
      "Voici un exemple d'utilisation"
     ]
    },
    {
     "cell_type": "code",
     "collapsed": false,
     "input": [
      "x=0\n",
      "while (x*x<25):\n",
      "    x=x+0.1\n",
      "print(x-0.1)"
     ],
     "language": "python",
     "metadata": {},
     "outputs": []
    },
    {
     "cell_type": "markdown",
     "metadata": {},
     "source": [
      "A vous de jouer ...."
     ]
    },
    {
     "cell_type": "code",
     "collapsed": false,
     "input": [],
     "language": "python",
     "metadata": {},
     "outputs": []
    },
    {
     "cell_type": "heading",
     "level": 2,
     "metadata": {},
     "source": [
      "Activit\u00e9 autour des sommes"
     ]
    },
    {
     "cell_type": "heading",
     "level": 3,
     "metadata": {},
     "source": [
      "Question 1 :"
     ]
    },
    {
     "cell_type": "markdown",
     "metadata": {},
     "source": [
      "Que calcule le programme ci-dessous ?"
     ]
    },
    {
     "cell_type": "code",
     "collapsed": false,
     "input": [
      "s=0\n",
      "for i in range(1,10):\n",
      "    s=s+i\n",
      "print(s)"
     ],
     "language": "python",
     "metadata": {},
     "outputs": []
    },
    {
     "cell_type": "markdown",
     "metadata": {},
     "source": [
      "Modifier ce programme pour calculer la somme des entiers de 1 \u00e0 20. Est-ce conforme \u00e0 ce que vous auriez trouv\u00e9 en utilisant les propri\u00e9t\u00e9s des sommes des termes d'une suite vue en premi\u00e8re ?"
     ]
    },
    {
     "cell_type": "markdown",
     "metadata": {},
     "source": [
      "Votre r\u00e9ponse : ..."
     ]
    },
    {
     "cell_type": "heading",
     "level": 3,
     "metadata": {},
     "source": [
      "Question 2 :"
     ]
    },
    {
     "cell_type": "markdown",
     "metadata": {},
     "source": [
      "Ecrire un programme dans la cellule ci-dessous pour calculer la somme des carr\u00e9s des entiers de 1 \u00e0 30 :\n",
      "\n",
      "$S=1^2+2^2+3^2+...+29^2+30^2$"
     ]
    },
    {
     "cell_type": "code",
     "collapsed": false,
     "input": [],
     "language": "python",
     "metadata": {},
     "outputs": []
    },
    {
     "cell_type": "markdown",
     "metadata": {},
     "source": [
      "Votre r\u00e9ponse : La valeur de la somme est ..."
     ]
    },
    {
     "cell_type": "heading",
     "level": 1,
     "metadata": {},
     "source": [
      "Ce que l'on retiendra du langage Python"
     ]
    },
    {
     "cell_type": "heading",
     "level": 2,
     "metadata": {},
     "source": [
      "Les variables"
     ]
    },
    {
     "cell_type": "markdown",
     "metadata": {},
     "source": [
      "- L'affectation des valeurs au variables se fait tr\u00e8s naturellement au moyen du signe =\n",
      "- L'affichage du contenu d'une variable se fait par l'instruction ***print ()***"
     ]
    },
    {
     "cell_type": "code",
     "collapsed": false,
     "input": [
      "a=3\n",
      "print(a)"
     ],
     "language": "python",
     "metadata": {},
     "outputs": []
    },
    {
     "cell_type": "heading",
     "level": 2,
     "metadata": {},
     "source": [
      "La boucle pour"
     ]
    },
    {
     "cell_type": "markdown",
     "metadata": {},
     "source": [
      "Les boucles *Pour* se d\u00e9finissent au moyen de l'instruction ***for variable in range(nb_it\u00e9rations) :***\n",
      "\n",
      "Dans ce cas, variable prendra les valeurs de 0 \u00e0 nb_it\u00e9tations***-1***."
     ]
    },
    {
     "cell_type": "code",
     "collapsed": false,
     "input": [
      "for i in range(5): # Ne pas oublier le : !!!!\n",
      "    print (i)"
     ],
     "language": "python",
     "metadata": {},
     "outputs": []
    },
    {
     "cell_type": "heading",
     "level": 2,
     "metadata": {},
     "source": [
      "La boucle tant que"
     ]
    },
    {
     "cell_type": "markdown",
     "metadata": {},
     "source": [
      "Les boucles *Tant que* se d\u00e9finissent au moyen de l'instruction ***while (condition) :***"
     ]
    },
    {
     "cell_type": "code",
     "collapsed": false,
     "input": [
      "i=1\n",
      "while(i<10):\n",
      "    i=i+2\n",
      "print(i)"
     ],
     "language": "python",
     "metadata": {},
     "outputs": []
    },
    {
     "cell_type": "heading",
     "level": 1,
     "metadata": {},
     "source": [
      "Et pour pratiquer un peu ..."
     ]
    },
    {
     "cell_type": "markdown",
     "metadata": {},
     "source": [
      "Ecrire ci-dessous un programme r\u00e9pondant au probl\u00e8me suivant:"
     ]
    },
    {
     "cell_type": "markdown",
     "metadata": {},
     "source": [
      "On place la somme de 10000\u20ac sur un compte r\u00e9mun\u00e9r\u00e9 \u00e0 2,5% par an. Au bout de combien d'ann\u00e9e d\u00e9passera t-on, la somme de 12500 \u20ac ?"
     ]
    },
    {
     "cell_type": "code",
     "collapsed": false,
     "input": [],
     "language": "python",
     "metadata": {},
     "outputs": []
    }
   ],
   "metadata": {}
  }
 ]
}