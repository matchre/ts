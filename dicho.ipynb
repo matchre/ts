{
 "cells": [
  {
   "cell_type": "markdown",
   "metadata": {},
   "source": [
    "# Algorithme de dichotomie"
   ]
  },
  {
   "cell_type": "markdown",
   "metadata": {},
   "source": [
    "On considère la fonction $f:x\\longmapsto 2x^3+3x^2-12x+5$ définie sur l'intervalle $[-4;2]$.\n",
    "\n",
    "On en donne le tableau de variations ci-dessous :\n",
    "![](http://lcs.allende.lyc14.ac-caen.fr/~lecluseo/tdv.jpg)"
   ]
  },
  {
   "cell_type": "markdown",
   "metadata": {},
   "source": [
    "## Etude sur l'intervalle [1;2]"
   ]
  },
  {
   "cell_type": "markdown",
   "metadata": {},
   "source": [
    "***1°/*** Justifier que l'équation $f(x)=0$ possède une solution ***unique*** sur l'intervalle $[1;2]$"
   ]
  },
  {
   "cell_type": "markdown",
   "metadata": {},
   "source": [
    "***2°/*** On appelle $\\alpha$ l'unique solution del'équation $f(x)=0$ sur l'intervalle $[1;2]$. \n",
    "$a$ et $m$ sont deux réels de l'intervalle $[1;2]$.\n",
    "\n",
    "Justifier que \n",
    "- **si $f(a)\\times f(m)<0$, alors $\\alpha\\in [a;m]$**\n",
    "- **si $f(a)\\times f(m)>0$, alors $\\alpha\\notin [a;m]$**"
   ]
  },
  {
   "cell_type": "markdown",
   "metadata": {},
   "source": [
    "***3°/*** On cherche à trouver une valeur approchée de l'équation $f(x)=0$. Pour ce faire, on considère l'algorithme suivant :\n",
    "\n",
    "<PRE>\n",
    "A prend la valeur 1\n",
    "B prend la valeur 2\n",
    "M prend la valeur 1,5\n",
    "P=0,1\n",
    "Tant Que B-A>P\n",
    "    Si f(M)*f(A)>0\n",
    "        A prend la valeur M\n",
    "    Sinon\n",
    "        B prend la valeur M\n",
    "    M prend la valeur (A+B)/2\n",
    "Fin TantQue\n",
    "Afficher M\n",
    "</PRE>\n",
    "Compléter le tableau ci-dessous en donnant à chaque début de passage dans la boucle les valeurs demandées\n",
    "\n",
    "En déduire la valeur retournée par l'algorithme."
   ]
  },
  {
   "cell_type": "markdown",
   "metadata": {},
   "source": [
    "Variables | Etape 1 | Etape 2 | Etape 3 | Etape 4 | Etape 5\n",
    "----------|---------|---------|---------|---------|--------\n",
    "    A     |  1      |         |         |         |        \n",
    "    B     |  2      |         |         |         |        \n",
    "    M     |         |         |         |         |        \n",
    "   f(A)   |         |         |         |         |        \n",
    "   f(M)   |         |         |         |         |        \n",
    "   B-A    |         |         |         |         |        \n",
    "\n",
    "Quelle est la valeur retournée par l'algorithme ?\n",
    "\n",
    "On pourra s'aider de la cellule Python ci-dessous pour faire tourner le coeur de l'algorithme à la main."
   ]
  },
  {
   "cell_type": "code",
   "execution_count": null,
   "metadata": {
    "collapsed": false
   },
   "outputs": [],
   "source": [
    "def f(x):\n",
    "    # On programme la fonction f en Python\n",
    "    return 2*x**3+3*x**2-12*x+5\n",
    "\n",
    "A=1\n",
    "B=2\n",
    "M=(A+B)/2\n",
    "print(\"M=\",M)\n",
    "print(\"f(A)=\",f(A))\n",
    "print(\"f(M)=\",f(M))\n",
    "print(\"B-A=\",B-A)"
   ]
  },
  {
   "cell_type": "markdown",
   "metadata": {},
   "source": [
    "## Bilan de la partie d'analyse de l'algorithme"
   ]
  },
  {
   "cell_type": "markdown",
   "metadata": {},
   "source": [
    "Cet algorithme met en œuvre la méthode dite de ***dichotomie*** qui consiste à **diviser par deux** la longueur de recherche en prenant le **milieu de l'intervalle** à chaque fois.\n",
    "\n",
    "Chacun a, peut-être sans le savoir, déjà utilisé cet algorithme dans des jeux type \"trouver le nombre entre 0 et 100 auquel je pense\". On essaye 50, et si la personne répond plus petit, on essaye 25 et ainsi de suite jusqu'à trouver le nombre cherché."
   ]
  },
  {
   "cell_type": "markdown",
   "metadata": {},
   "source": [
    "## Programmation de l'algorithme en Python"
   ]
  },
  {
   "cell_type": "markdown",
   "metadata": {},
   "source": [
    "***5°/*** Compléter le programme suivant et vérifier qu'il retourne bien la valeur escomptée"
   ]
  },
  {
   "cell_type": "code",
   "execution_count": null,
   "metadata": {
    "collapsed": false
   },
   "outputs": [],
   "source": [
    "def f(x):\n",
    "    # On programme la fonction f en Python\n",
    "    return 2*x**3+3*x**2-12*x+5\n",
    "\n",
    "A=1\n",
    "B=2\n",
    "M=1.5\n",
    "P=0.1\n",
    "\n",
    "while ... :\n",
    "    if f(M)*f(A)>0 :\n",
    "        ...\n",
    "    else:\n",
    "        ...\n",
    "    M=...\n",
    "\n",
    "print(M)"
   ]
  },
  {
   "cell_type": "markdown",
   "metadata": {},
   "source": [
    "***6°/*** Modifier cet algorithme pour obtenir une valeur approchée de $\\alpha$ à $10^{-4}$ près"
   ]
  },
  {
   "cell_type": "markdown",
   "metadata": {},
   "source": [
    "## Etude sur l'intervalle [-2;1]"
   ]
  },
  {
   "cell_type": "markdown",
   "metadata": {},
   "source": [
    "***7°/*** Justifier que l'équation $f(x)=0$ possède une solution ***unique*** $\\beta$ sur l'intervalle $[-2;1]$"
   ]
  },
  {
   "cell_type": "markdown",
   "metadata": {},
   "source": [
    "***8°/*** Copier/Coller puis modifier le programme de la partie précédente afin de déterminer une valeur approchée de $\\beta$ à $10^{-4}$ près."
   ]
  },
  {
   "cell_type": "code",
   "execution_count": null,
   "metadata": {
    "collapsed": false
   },
   "outputs": [],
   "source": [
    "# Copier/Coller / Modifier votre programme"
   ]
  },
  {
   "cell_type": "markdown",
   "metadata": {},
   "source": [
    "## Adapter l'algorithme"
   ]
  },
  {
   "cell_type": "markdown",
   "metadata": {},
   "source": [
    "***7°/*** Justifier que l'équation $f(x)=10$ possède une solution ***unique*** $\\gamma$ sur l'intervalle $[-2;1]$"
   ]
  },
  {
   "cell_type": "markdown",
   "metadata": {},
   "source": [
    "***8°/*** Copier/Coller puis modifier le programme de la partie précédente afin de déterminer une valeur approchée de $\\gamma$ à $10^{-4}$ près."
   ]
  },
  {
   "cell_type": "code",
   "execution_count": null,
   "metadata": {
    "collapsed": false
   },
   "outputs": [],
   "source": [
    "# Copier/Coller / Modifier votre programme\n"
   ]
  },
  {
   "cell_type": "markdown",
   "metadata": {},
   "source": [
    "Vous pouvez vous entraîner à refaire ces programmes sur la calculatrice. Cet algorithme de dichotomie est au programme du bac et tombe régulièrement."
   ]
  },
  {
   "cell_type": "code",
   "execution_count": null,
   "metadata": {
    "collapsed": false
   },
   "outputs": [],
   "source": []
  }
 ],
 "metadata": {
  "kernelspec": {
   "display_name": "Python 3",
   "language": "python",
   "name": "python3"
  },
  "language_info": {
   "codemirror_mode": {
    "name": "ipython",
    "version": 3
   },
   "file_extension": ".py",
   "mimetype": "text/x-python",
   "name": "python",
   "nbconvert_exporter": "python",
   "pygments_lexer": "ipython3",
   "version": "3.3.5"
  }
 },
 "nbformat": 4,
 "nbformat_minor": 0
}
