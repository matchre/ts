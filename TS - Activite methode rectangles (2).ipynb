{
 "metadata": {
  "name": "",
  "signature": "sha256:1dab6d05bece7d41c6b538b0b11d20ccddae6d0caf6a056cceb273d90bf76e92"
 },
 "nbformat": 3,
 "nbformat_minor": 0,
 "worksheets": [
  {
   "cells": [
    {
     "cell_type": "markdown",
     "metadata": {},
     "source": [
      "Afin de pouvoir personnaliser votre classeur sans d\u00e9truire le classeur sur lequel travaille votre voisin, vous allez tout d'abord aller dans le menu **`File`** puis **`Make a copy...`**. Renommez le classeur en ajoutant votre nom \u00e0 la fin du nom de fichier par exemple."
     ]
    },
    {
     "cell_type": "heading",
     "level": 1,
     "metadata": {},
     "source": [
      "Int\u00e9gration - M\u00e9thode des rectangles"
     ]
    },
    {
     "cell_type": "heading",
     "level": 2,
     "metadata": {},
     "source": [
      "Probl\u00e9matique"
     ]
    },
    {
     "cell_type": "markdown",
     "metadata": {},
     "source": [
      "On consid\u00e8re dans cette activit\u00e9 la fonction $f$ d\u00e9finie sur\n",
      "$[0 ;2]$ par $f (x) = 4 \u2212 x^2$ et $\\mathcal C$ sa courbe repr\u00e9sentative dans\n",
      "un rep\u00e8re orthonorm\u00e9.\n",
      "\n",
      "L'objectif de cette activit\u00e9 est de calculer l'aire du domaine d\u00e9limit\u00e9 \n",
      "- d'une part par les droites d'\u00e9quation $x=0$ et $x=2$\n",
      "- d'autre part par l'axe des asbcisses et la courbe $\\mathcal C$\n",
      "\n",
      "![](http://s25.postimg.org/6fk8bd4cv/Capture_du_2015_03_18_14_58_32.png)\n",
      "\n",
      "En d'autre termes, nous cherchons \u00e0 d\u00e9terminer l'aire hachur\u00e9e en rouge sous la courbe $\\mathcal C$ pour $x$ compris entre 0 et 2."
     ]
    },
    {
     "cell_type": "heading",
     "level": 2,
     "metadata": {},
     "source": [
      "La m\u00e9thode des rectangles"
     ]
    },
    {
     "cell_type": "markdown",
     "metadata": {},
     "source": [
      "L\u2019id\u00e9e va \u00eatre d\u2019encadrer l\u2019aire recherch\u00e9e par deux aires que l\u2019on peut calculer ais\u00e9ment. On utilise pour\n",
      "cela des figures tr\u00e8s \u00e9l\u00e9mentaires : des rectangles. \n",
      "\n",
      "Nous allons calculer un minorant de l'aire en inscrivant des rectangles sous la courbe (voir rectangles rouges) et un majorant de l'aire en construisant des rectangles au dessus de la courbe (voir rectangles bleus).\n",
      "\n",
      "![](http://s25.postimg.org/tv25gpo3z/Capture_du_2015_03_18_15_03_05.png)\n",
      "\n",
      "En effet, l'aire d'un rectangle est facile \u00e0 calculer. Il suffit donc de faire la somme des aires de chacun des rectangles pour obtenir un encadrement de l'aire recherch\u00e9e."
     ]
    },
    {
     "cell_type": "heading",
     "level": 3,
     "metadata": {},
     "source": [
      "Rectangles inf\u00e9rieurs (rouges)"
     ]
    },
    {
     "cell_type": "markdown",
     "metadata": {},
     "source": [
      "On cherche \u00e0 d\u00e9terminer l'aire du rectangle dont la base est situ\u00e9e entre les abscisses $x$ et $x+dx$ (dx d\u00e9signant la largeur de chaque rectangle) et dont la hauteur est telle que le rectangle soit situ\u00e9 juste sous la courbe $\\mathcal C$.\n",
      "\n",
      "Exprimer cette aire en fonction de $x$, $dx$ et la fonction $f$"
     ]
    },
    {
     "cell_type": "markdown",
     "metadata": {},
     "source": [
      "Votre r\u00e9ponse ici"
     ]
    },
    {
     "cell_type": "heading",
     "level": 3,
     "metadata": {},
     "source": [
      "Rectangles sup\u00e9rieurs (bleus)"
     ]
    },
    {
     "cell_type": "markdown",
     "metadata": {},
     "source": [
      "On cherche \u00e0 d\u00e9terminer l'aire du rectangle dont la base est situ\u00e9e entre les abscisses $x$ et $x+dx$ (dx d\u00e9signant la largeur de chaque rectangle) et dont la hauteur est telle que le rectangle soit situ\u00e9 juste au dessus de la courbe $\\mathcal C$.\n",
      "\n",
      "Exprimer cette aire en fonction de $x$, $dx$ et la fonction $f$"
     ]
    },
    {
     "cell_type": "markdown",
     "metadata": {},
     "source": [
      "Votre r\u00e9ponse ici"
     ]
    },
    {
     "cell_type": "heading",
     "level": 3,
     "metadata": {},
     "source": [
      "Le programme"
     ]
    },
    {
     "cell_type": "code",
     "collapsed": false,
     "input": [
      "# On d\u00e9finit notre fonction f\n",
      "\n",
      "def f(x):\n",
      "    return 4-x*x"
     ],
     "language": "python",
     "metadata": {},
     "outputs": []
    },
    {
     "cell_type": "markdown",
     "metadata": {},
     "source": [
      "Compl\u00e9ter le programme ci-dessous dont le but est de calculer la somme des aires des rectangles sous la courbe (rouges) et la somme des aires des rectangles au dessus de la courbe (bleus)."
     ]
    },
    {
     "cell_type": "code",
     "collapsed": false,
     "input": [
      "# Initialisation\n",
      "\n",
      "a=0 # XMin\n",
      "b=2 # XMax\n",
      "n=5 # Nombre total de rectangle\n",
      "dx=... # ... Largeur d'un rectangle\n",
      "\n",
      "sommeInf=... # Aire des rectangles inf\u00e9rieurs\n",
      "sommeSup=... # Aire des rectangles sup\u00e9rieurs\n",
      "\n",
      "# Traitement\n",
      "\n",
      "x=a # Bord gauche du rectangle consid\u00e9r\u00e9\n",
      "for i in range(...):\n",
      "    sommeInf=...\n",
      "    sommeSup=...\n",
      "    x=...\n",
      "\n",
      "# Sortie\n",
      "\n",
      "print(\"L'aire est comprise entre \",..., \" et \", ...)"
     ],
     "language": "python",
     "metadata": {},
     "outputs": []
    },
    {
     "cell_type": "markdown",
     "metadata": {},
     "source": [
      "Quelle est l'incertitude commise par cet encadrement ?"
     ]
    },
    {
     "cell_type": "code",
     "collapsed": false,
     "input": [
      "# Votre calcul ici \n"
     ],
     "language": "python",
     "metadata": {},
     "outputs": []
    },
    {
     "cell_type": "markdown",
     "metadata": {},
     "source": [
      "Comment augmenter la pr\u00e9cision de ce calcul et diminuer cette incertitude ?"
     ]
    },
    {
     "cell_type": "markdown",
     "metadata": {},
     "source": [
      "Votre r\u00e9ponse ici ..."
     ]
    },
    {
     "cell_type": "markdown",
     "metadata": {},
     "source": [
      "Modifier votre programme pour donner une valeur de l'aire sous la courbe d'une pr\u00e9cision d'au moins 0,1"
     ]
    },
    {
     "cell_type": "code",
     "collapsed": false,
     "input": [
      "# Copier coller votre programme ici en le modifiant\n"
     ],
     "language": "python",
     "metadata": {},
     "outputs": []
    },
    {
     "cell_type": "heading",
     "level": 2,
     "metadata": {},
     "source": [
      "Modification de l'algorithme"
     ]
    },
    {
     "cell_type": "markdown",
     "metadata": {},
     "source": [
      "On souhaite \u00e0 pr\u00e9sent modifier le programme afin d'obtenir un encadrement avec une pr\u00e9cision fix\u00e9e au d\u00e9part. Par exemple : obtenir un encadrement de l'aire sous la courbe avec une pr\u00e9cision d'au moins 0,0001. Que faut-il modifier dans notre algorithme pour arriver \u00e0 ce r\u00e9sultat ?"
     ]
    },
    {
     "cell_type": "markdown",
     "metadata": {},
     "source": [
      "Ecrire votre r\u00e9ponse ici ..."
     ]
    },
    {
     "cell_type": "markdown",
     "metadata": {},
     "source": [
      "Ecrire un programme donnant un encadrement de l'aire avec une pr\u00e9cision d'au moins 0,0001. \n",
      "\n",
      "Combien avez-vous utilis\u00e9 de rectangles pour arriver \u00e0 cette pr\u00e9cision ?"
     ]
    },
    {
     "cell_type": "code",
     "collapsed": false,
     "input": [],
     "language": "python",
     "metadata": {},
     "outputs": []
    },
    {
     "cell_type": "heading",
     "level": 3,
     "metadata": {},
     "source": [
      "Notation"
     ]
    },
    {
     "cell_type": "markdown",
     "metadata": {},
     "source": [
      "On note l'aire sous la courbe que nous venons de calculer : $\\displaystyle \\int_0^2 4-x^2~ dx \\approx 5,3333$"
     ]
    },
    {
     "cell_type": "heading",
     "level": 2,
     "metadata": {},
     "source": [
      "Application \u00e0 une autre fonction"
     ]
    },
    {
     "cell_type": "markdown",
     "metadata": {},
     "source": [
      "En utilisant votre programme - \u00e9ventuellement en y apportant des modifications... - d\u00e9terminer une valeur approch\u00e9e de $\\displaystyle \\int_{0}^{\\pi}sin(x)~dx$ avec une pr\u00e9cision de 0.0001"
     ]
    },
    {
     "cell_type": "code",
     "collapsed": false,
     "input": [],
     "language": "python",
     "metadata": {},
     "outputs": []
    }
   ],
   "metadata": {}
  }
 ]
}