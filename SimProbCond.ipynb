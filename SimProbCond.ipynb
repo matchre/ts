{
 "metadata": {
  "name": "",
  "signature": "sha256:95d9b253269ca7896fb489799ee7c3c43b5ea3390c23fd3e9a526cd6bcbaf86f"
 },
 "nbformat": 3,
 "nbformat_minor": 0,
 "worksheets": [
  {
   "cells": [
    {
     "cell_type": "heading",
     "level": 1,
     "metadata": {},
     "source": [
      "Analyse d\u2019\u00e9chantillon d\u2019eau"
     ]
    },
    {
     "cell_type": "markdown",
     "metadata": {},
     "source": [
      "Lorsque la rivi\u00e8re qui longe le village XXX d\u00e9borde, la probabilit\u00e9 que la source du village soit pollu\u00e9e est de 0.45 le lendemain. Dans le cas o\u00f9 cette rivi\u00e8re d\u00e9borde, un employ\u00e9 municipal est charg\u00e9 de pr\u00e9lever et d\u2019analyser un \u00e9chantillon d\u2019eau de la source.\n",
      "\n",
      "L\u2019analyse d\u2019un \u00e9chantillon n\u2019est pas totalement fiable :\n",
      "- dans seulement 81 % des cas, l\u2019analyse d\u2019un \u00e9chantillon contenant de l\u2019eau pollu\u00e9e indiquera que l\u2019eau est pollu\u00e9e.\n",
      "- dans seulement 79 % des cas, l\u2019analyse d\u2019un \u00e9chantillon contenant de l\u2019eau saine indiquera que l\u2019eau est non pollu\u00e9e."
     ]
    },
    {
     "cell_type": "heading",
     "level": 2,
     "metadata": {},
     "source": [
      "1\u00b0/ Si l\u2019eau contenue dans l\u2019\u00e9chantillon pr\u00e9lev\u00e9 est d\u00e9clar\u00e9e pollu\u00e9e par l\u2019analyse effectu\u00e9e, quelle est la probabilit\u00e9 que le maire se trompe en d\u00e9clarant que l\u2019eau est pollu\u00e9e ?"
     ]
    },
    {
     "cell_type": "markdown",
     "metadata": {},
     "source": [
      "Nous allons faire une simulation en Python pour compter sur un grand nombre d'exp\u00e9riences le nombre de fois ou le Maire se trompe.\n",
      "On consid\u00e8re les \u00e9v\u00e9nements :\n",
      "- P : \u00ab La source du village est pollu\u00e9e \u00bb\n",
      "- A : \u00ab L\u2019analyse d\u2019un \u00e9chantillon r\u00e9v\u00e8le que l\u2019eau est pollu\u00e9e \u00bb"
     ]
    },
    {
     "cell_type": "heading",
     "level": 3,
     "metadata": {},
     "source": [
      "Fabrication des fonctions de simulation"
     ]
    },
    {
     "cell_type": "code",
     "collapsed": false,
     "input": [
      "from random import *\n",
      "\n",
      "proba_P=0.45    # Probabilit\u00e9 de P\n",
      "proba_PA=0.81   # Probabilit\u00e9 de A sachant P\n",
      "proba_PbAb=0.79 # Probabilit\u00e9 de Abarre sachant Pbarre\n",
      "\n",
      "nbExp=100000"
     ],
     "language": "python",
     "metadata": {},
     "outputs": [],
     "prompt_number": 16
    },
    {
     "cell_type": "code",
     "collapsed": false,
     "input": [
      "def simulPollution(proba):\n",
      "    \"\"\" On simule la pollution de la rivi\u00e8re au cas ou la rivi\u00e8re d\u00e9borde\n",
      "    proba est la probabilit\u00e9 que la rivi\u00e8re soit pollu\u00e9e en cas de d\u00e9bordement. 0,45 dans l'\u00e9nonc\u00e9\n",
      "    renvoie True si la rivi\u00e8re est pollu\u00e9e (\u00e9v\u00e9nement de probabilit\u00e9 proba)\n",
      "    \"\"\"\n",
      "    return (random()<proba)\n",
      "    "
     ],
     "language": "python",
     "metadata": {},
     "outputs": [],
     "prompt_number": 1
    },
    {
     "cell_type": "markdown",
     "metadata": {},
     "source": [
      "Test de la fonction **simulPollution**"
     ]
    },
    {
     "cell_type": "code",
     "collapsed": false,
     "input": [
      "count=0\n",
      "for i in range(nbExp):\n",
      "    if simulPollution(proba_P):\n",
      "        count+=1\n",
      "print(count/nbExp)"
     ],
     "language": "python",
     "metadata": {},
     "outputs": [
      {
       "output_type": "stream",
       "stream": "stdout",
       "text": [
        "0.44974\n"
       ]
      }
     ],
     "prompt_number": 20
    },
    {
     "cell_type": "code",
     "collapsed": false,
     "input": [
      "def simulAnalyse(p1,p2,estPolluee):\n",
      "    \"\"\" On simule le r\u00e9sultat de l'analyse :\n",
      "    Si la rivi\u00e8re est pollu\u00e9e (variable estPolluee) on renvoie Vrai avec une probabilit\u00e9 p1\n",
      "    Si la rivi\u00e8re est non pollu\u00e9e on renvoie Faux avec une probabilit\u00e9 p2\n",
      "    \"\"\"\n",
      "    if estPolluee :\n",
      "        return (random()<p1)\n",
      "    else:\n",
      "        return (random()>p2)\n"
     ],
     "language": "python",
     "metadata": {},
     "outputs": [],
     "prompt_number": 25
    },
    {
     "cell_type": "markdown",
     "metadata": {},
     "source": [
      "Test de la fonction **simulAnalyse**"
     ]
    },
    {
     "cell_type": "code",
     "collapsed": false,
     "input": [
      "count=0\n",
      "# On simule en cas de pollution de la riviere\n",
      "for i in range(nbExp):\n",
      "    if simulAnalyse(proba_PA,proba_PbAb,True):\n",
      "        count+=1\n",
      "print(count/nbExp)\n",
      "\n",
      "count=0\n",
      "# On simule en cas de non pollution de la riviere\n",
      "for i in range(nbExp):\n",
      "    if not simulAnalyse(proba_PA,proba_PbAb,False):\n",
      "        count+=1\n",
      "print(count/nbExp)"
     ],
     "language": "python",
     "metadata": {},
     "outputs": [
      {
       "output_type": "stream",
       "stream": "stdout",
       "text": [
        "0.8093\n",
        "0.79066\n"
       ]
      }
     ],
     "prompt_number": 27
    },
    {
     "cell_type": "markdown",
     "metadata": {},
     "source": [
      "Les observations effectu\u00e9es sont conformes aux probabilit\u00e9s"
     ]
    },
    {
     "cell_type": "heading",
     "level": 3,
     "metadata": {},
     "source": [
      "Simulation d'un grand nombre d'exp\u00e9riences"
     ]
    },
    {
     "cell_type": "code",
     "collapsed": false,
     "input": [
      "count=0  # Nombre de fois ou le maire se trompe\n",
      "countA=0 # Nombre de fois ou l'analyse r\u00e9v\u00e8le un epollution\n",
      "\n",
      "for i in range(nbExp):\n",
      "    # On simule le d\u00e9bordement de la rivi\u00e8re\n",
      "    pollution=simulPollution(proba_P)\n",
      "    # On simule l'analyse de l'\u00e9chantillon\n",
      "    analyse=simulAnalyse(proba_PA,proba_PbAb,pollution)\n",
      "    if analyse : # si l'eau contenue dans l'\u00e9chantillon est d\u00e9clar\u00e9e pollu\u00e9e\n",
      "        countA+=1\n",
      "        if analyse != pollution : # le maire s'est-il tromp\u00e9\n",
      "            count+=1 # on compte le nb de fois que le maire se trompe\n",
      "\n",
      "# Affichage du r\u00e9sultat de la simulation\n",
      "print(\"Fr\u00e9quence Pbarre inter A = \", count/nbExp) # L'univers est l'ensemble des simulations. C'est Inter\n",
      "print(\"Fr\u00e9quence Pbarre sachant A = \",count/countA) # L'univers est celui des analyse positives. C'est Sachant que A"
     ],
     "language": "python",
     "metadata": {},
     "outputs": [
      {
       "output_type": "stream",
       "stream": "stdout",
       "text": [
        "Fr\u00e9quence Pbarre inter A =  0.11646\n",
        "Fr\u00e9quence Pbarre sachant A =  0.24205516180658035\n"
       ]
      }
     ],
     "prompt_number": 30
    },
    {
     "cell_type": "markdown",
     "metadata": {},
     "source": [
      "Ces r\u00e9sultats sont conformes \u00e0 l'\u00e9tude th\u00e9orique"
     ]
    },
    {
     "cell_type": "heading",
     "level": 2,
     "metadata": {},
     "source": [
      "2\u00b0/ Analyse de 3 \u00e9chantillons"
     ]
    },
    {
     "cell_type": "markdown",
     "metadata": {},
     "source": [
      "On suppose que pour diminuer le risque de se tromper, l\u2019employ\u00e9 municipal est charg\u00e9 de pr\u00e9lever 3 \u00e9chantillons d\u2019eau de la source le lendemain et d\u2019analyser s\u00e9par\u00e9ment chaque \u00e9chantillon.\n",
      "\n",
      "Si l\u2019eau contenue dans 2 \u00e9chantillons sur les 3 \u00e9chantillons pr\u00e9lev\u00e9s est d\u00e9clar\u00e9e pollu\u00e9e par l\u2019analyse effectu\u00e9e, quelle est alors la probabilit\u00e9 que le maire se trompe en d\u00e9clarant que l\u2019eau est pollu\u00e9e ?"
     ]
    },
    {
     "cell_type": "heading",
     "level": 3,
     "metadata": {},
     "source": [
      "Simulation"
     ]
    },
    {
     "cell_type": "markdown",
     "metadata": {},
     "source": [
      "Les fonctions de simulations fabriqu\u00e9es pour la question pr\u00e9c\u00e9dente fonctionnent toujours. Il faut juste refaire la simulation de l'exp\u00e9rience en tenant compte des 3 analyses"
     ]
    },
    {
     "cell_type": "code",
     "collapsed": false,
     "input": [
      "count=0  # Nombre de fois ou le maire se trompe\n",
      "countA=0 # Nombre de fois ou l'analyse r\u00e9v\u00e8le un epollution\n",
      "\n",
      "for i in range(nbExp):\n",
      "    # On simule le d\u00e9bordement de la rivi\u00e8re\n",
      "    pollution=simulPollution(proba_P)\n",
      "    # On simule l'analyse de l'\u00e9chantillon\n",
      "    analyses=[]\n",
      "    for j in range(3): # on simule 3 analyses\n",
      "        analyses.append(simulAnalyse(proba_PA,proba_PbAb,pollution))\n",
      "    nbAnalysePositives=analyses.count(True)\n",
      "    if nbAnalysePositives==2 : # si l'eau contenue dans exactement 2 \u00e9chantillons est d\u00e9clar\u00e9e pollu\u00e9e\n",
      "        countA+=1\n",
      "        if not pollution : # le maire s'est-il tromp\u00e9, l'eau n'est pas pollu\u00e9e\n",
      "            count+=1 # on compte le nb de fois que le maire se trompe\n",
      "\n",
      "# Affichage du r\u00e9sultat de la simulation\n",
      "print(\"Fr\u00e9quence Pbarre inter A = \", count/nbExp) # L'univers est l'ensemble des simulations. C'est Inter\n",
      "print(\"Fr\u00e9quence Pbarre sachant A = \",count/countA) # L'univers est celui des analyse positives. C'est Sachant que A"
     ],
     "language": "python",
     "metadata": {},
     "outputs": [
      {
       "output_type": "stream",
       "stream": "stdout",
       "text": [
        "Fr\u00e9quence Pbarre inter A =  0.05728\n",
        "Fr\u00e9quence Pbarre sachant A =  0.2526687251874724\n"
       ]
      }
     ],
     "prompt_number": 36
    },
    {
     "cell_type": "markdown",
     "metadata": {},
     "source": [
      "On trouve ici une proibabilit\u00e9 d'environ 25%"
     ]
    },
    {
     "cell_type": "heading",
     "level": 2,
     "metadata": {},
     "source": [
      "3\u00b0/ Correction de l'\u00e9nonc\u00e9"
     ]
    },
    {
     "cell_type": "markdown",
     "metadata": {},
     "source": [
      "On suppose que pour diminuer le risque de se tromper, l\u2019employ\u00e9 municipal est charg\u00e9 de pr\u00e9lever 3 \u00e9chantillons d\u2019eau de la source le lendemain et d\u2019analyser s\u00e9par\u00e9ment chaque \u00e9chantillon.\n",
      "\n",
      "Si l\u2019eau contenue dans ***au moins *** 2 \u00e9chantillons sur les 3 \u00e9chantillons pr\u00e9lev\u00e9s est d\u00e9clar\u00e9e pollu\u00e9e par l\u2019analyse effectu\u00e9e, quelle est alors la probabilit\u00e9 que le maire se trompe en d\u00e9clarant que l\u2019eau est pollu\u00e9e ?"
     ]
    },
    {
     "cell_type": "code",
     "collapsed": false,
     "input": [
      "count=0  # Nombre de fois ou le maire se trompe\n",
      "countA=0 # Nombre de fois ou l'analyse r\u00e9v\u00e8le un epollution\n",
      "\n",
      "for i in range(nbExp):\n",
      "    # On simule le d\u00e9bordement de la rivi\u00e8re\n",
      "    pollution=simulPollution(proba_P)\n",
      "    # On simule l'analyse de l'\u00e9chantillon\n",
      "    analyses=[]\n",
      "    for j in range(3): # on simule 3 analyses\n",
      "        analyses.append(simulAnalyse(proba_PA,proba_PbAb,pollution))\n",
      "    nbAnalysePositives=analyses.count(True)\n",
      "    if nbAnalysePositives>=2 : # si l'eau contenue dans exactement 2 \u00e9chantillons est d\u00e9clar\u00e9e pollu\u00e9e\n",
      "        countA+=1\n",
      "        if not pollution : # le maire s'est-il tromp\u00e9, l'eau n'est pas pollu\u00e9e\n",
      "            count+=1 # on compte le nb de fois que le maire se trompe\n",
      "\n",
      "# Affichage du r\u00e9sultat de la simulation\n",
      "print(\"Fr\u00e9quence Pbarre inter A = \", count/nbExp) # L'univers est l'ensemble des simulations. C'est Inter\n",
      "print(\"Fr\u00e9quence Pbarre sachant A = \",count/countA) # L'univers est celui des analyse positives. C'est Sachant que A"
     ],
     "language": "python",
     "metadata": {},
     "outputs": [
      {
       "output_type": "stream",
       "stream": "stdout",
       "text": [
        "Fr\u00e9quence Pbarre inter A =  0.06259\n",
        "Fr\u00e9quence Pbarre sachant A =  0.13299477285283243\n"
       ]
      }
     ],
     "prompt_number": 37
    },
    {
     "cell_type": "markdown",
     "metadata": {},
     "source": [
      "On trouve ici une probabilit\u00e9 d'environ 13% ce qui est plus r\u00e9aliste avec l'intuition que 3 tests doivent mener \u00e0 moins d'erreur qu'un seul..."
     ]
    },
    {
     "cell_type": "code",
     "collapsed": false,
     "input": [],
     "language": "python",
     "metadata": {},
     "outputs": []
    }
   ],
   "metadata": {}
  }
 ]
}