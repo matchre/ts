{
 "metadata": {
  "name": "",
  "signature": "sha256:a676dc4196183a27a213b609e60ebcfe8a34fdb6b711141f18d344a674cfba87"
 },
 "nbformat": 3,
 "nbformat_minor": 0,
 "worksheets": [
  {
   "cells": [
    {
     "cell_type": "markdown",
     "metadata": {},
     "source": [
      "Afin de pouvoir personnaliser votre classeur sans d\u00e9truire le classeur sur lequel travaille votre voisin, vous allez tout d'abord aller dans le menu **`File`** puis **`Make a copy...`**. Renommez le classeur en ajoutant votre nom \u00e0 la fin du nom de fichier par exemple."
     ]
    },
    {
     "cell_type": "heading",
     "level": 1,
     "metadata": {},
     "source": [
      "Construction de la fonction exponentielle"
     ]
    },
    {
     "cell_type": "markdown",
     "metadata": {},
     "source": [
      "Dans cette activit\u00e9, nous supposerons que $f$ est une fonction **d\u00e9finie et d\u00e9rivable sur** $\\mathbb R$ et qui v\u00e9rifie :\n",
      "- $f(0)=1$\n",
      "- $f'(x)=f(x)$ pour tout $x$ r\u00e9el\n",
      "\n",
      "Dans ces conditions, nous allons construire un algorithme permettant de calculer des valeurs approch\u00e9es de la fonction $f$."
     ]
    },
    {
     "cell_type": "heading",
     "level": 2,
     "metadata": {},
     "source": [
      "Elaboration de l'algorithme pour les r\u00e9els positifs"
     ]
    },
    {
     "cell_type": "markdown",
     "metadata": {},
     "source": [
      "Supposons qu'en un r\u00e9el $x_0$, l'image $f(x_0)$ soit connue."
     ]
    },
    {
     "cell_type": "markdown",
     "metadata": {},
     "source": [
      "**1\u00b0/** Quelle est la pente de la tangente $T$ \u00e0 la courbe repr\u00e9sentative de la fonction $f$ au point d'abscisse $x_0$ ?"
     ]
    },
    {
     "cell_type": "markdown",
     "metadata": {},
     "source": [
      "Votre r\u00e9ponse ici..."
     ]
    },
    {
     "cell_type": "markdown",
     "metadata": {},
     "source": [
      "**2\u00b0/** On suppose qu'on effectue un petit d\u00e9placement $dx$ \u00e0 partir de $x_0$ vers la droite. Quel est le d\u00e9placement vertical $dy$ correspondant sur la tangente ?\n",
      "![](http://s25.postimg.org/4qakwxumn/Capture_d_cran_2014_11_06_08_45_02.png)"
     ]
    },
    {
     "cell_type": "markdown",
     "metadata": {},
     "source": [
      "Votre r\u00e9ponse ici..."
     ]
    },
    {
     "cell_type": "markdown",
     "metadata": {},
     "source": [
      "**3\u00b0/** On cherche \u00e0 construire un algorithme permettant de calculer $f(1)$. Compl\u00e9tez l'algorithme ci-dessous en cons\u00e9quence.\n",
      "<PRE>\n",
      "    Initialisation\n",
      "        dx prend la valeur 0,5\n",
      "        x0 prend la valeur ...\n",
      "        fx0 prend la valeur ...\n",
      "    Traitement\n",
      "        Tant Que ... Faire\n",
      "            dy prend la valeur ...\n",
      "            x0 prend la valeur x0+dx\n",
      "            fx0 prend la valeur ...\n",
      "        Fin tant que \n",
      "    Sortie\n",
      "        Afficher ...\n",
      "</PRE>"
     ]
    },
    {
     "cell_type": "heading",
     "level": 2,
     "metadata": {},
     "source": [
      "Programmation de l'algorithme"
     ]
    },
    {
     "cell_type": "markdown",
     "metadata": {},
     "source": [
      "**1\u00b0/** On souhaite programmer l'algorithme ci-dessus en Python. Compl\u00e9tez le programme ci-dessous."
     ]
    },
    {
     "cell_type": "code",
     "collapsed": false,
     "input": [
      "dx=0.5\n",
      "x0=...\n",
      "fx0=...\n",
      "while ...:\n",
      "    dy=...\n",
      "    x0=x0+dx\n",
      "    fx0=...\n",
      "print(...)"
     ],
     "language": "python",
     "metadata": {},
     "outputs": []
    },
    {
     "cell_type": "markdown",
     "metadata": {},
     "source": [
      "**2\u00b0/** Nous avions trouv\u00e9 en cours qu'avec un pas de 0,5 (en s\u00e9parant l'intervalle [0;1] en deux parties), nous trouvions f(1)\\approx 2,25. Cela est-il coh\u00e9rent avec la r\u00e9ponse de notre programme ?"
     ]
    },
    {
     "cell_type": "markdown",
     "metadata": {},
     "source": [
      "Votre r\u00e9ponse ici..."
     ]
    },
    {
     "cell_type": "markdown",
     "metadata": {},
     "source": [
      "Nous souhaitons aumgmenter la pr\u00e9cision de la r\u00e9ponse. Que doit-on changer dans le programme pour obtenir une valeur plus pr\u00e9cise de $f(1)$ ?\n",
      "\n",
      "Modifier votre programme en cons\u00e9quence pour donner une valeur approch\u00e9e de $f(1)$ \u00e0 0,1 pr\u00e8s."
     ]
    },
    {
     "cell_type": "markdown",
     "metadata": {},
     "source": [
      "Votre r\u00e9ponse ici ..."
     ]
    },
    {
     "cell_type": "code",
     "collapsed": false,
     "input": [
      "# Votre programme modifi\u00e9 ici ..."
     ],
     "language": "python",
     "metadata": {},
     "outputs": []
    },
    {
     "cell_type": "markdown",
     "metadata": {},
     "source": [
      "Votre r\u00e9ponse ..."
     ]
    },
    {
     "cell_type": "markdown",
     "metadata": {},
     "source": [
      "Comparer ce r\u00e9sultat avec exp(1)"
     ]
    },
    {
     "cell_type": "code",
     "collapsed": false,
     "input": [
      "exp(1)"
     ],
     "language": "python",
     "metadata": {},
     "outputs": []
    },
    {
     "cell_type": "markdown",
     "metadata": {},
     "source": [
      "Votre r\u00e9ponse ici ..."
     ]
    },
    {
     "cell_type": "markdown",
     "metadata": {},
     "source": [
      "**3\u00b0/** Modifier votre programme pour donner une valeur approch\u00e9e de exp(2.4). \n",
      "\n",
      "Comparer votre r\u00e9ponse avec la valeur donn\u00e9e par la calculatrice (ou Python)."
     ]
    },
    {
     "cell_type": "code",
     "collapsed": false,
     "input": [
      "# Votre programme modifi\u00e9 ici ..."
     ],
     "language": "python",
     "metadata": {},
     "outputs": []
    },
    {
     "cell_type": "heading",
     "level": 2,
     "metadata": {},
     "source": [
      "Calcul pour les r\u00e9els n\u00e9gatifs"
     ]
    },
    {
     "cell_type": "markdown",
     "metadata": {},
     "source": [
      "**1\u00b0/** Modifier votre programme de mani\u00e8re \u00e0 calculer $f(-1)$ puis $f(-2,4)$"
     ]
    },
    {
     "cell_type": "code",
     "collapsed": false,
     "input": [
      "# Votre programme modifi\u00e9 ici ..."
     ],
     "language": "python",
     "metadata": {},
     "outputs": []
    },
    {
     "cell_type": "code",
     "collapsed": false,
     "input": [
      "# Votre programme modifi\u00e9 ici ..."
     ],
     "language": "python",
     "metadata": {},
     "outputs": []
    },
    {
     "cell_type": "markdown",
     "metadata": {},
     "source": [
      "**2\u00b0/** En vous aidant des valeurs calcul\u00e9es pr\u00e9c\u00e9demment, calculer \n",
      "- $f(-1)\\times f(1)$\n",
      "- $f(-2,4)\\times f(2,4)$\n",
      "\n",
      "Que remarquez-vous ?"
     ]
    },
    {
     "cell_type": "code",
     "collapsed": false,
     "input": [],
     "language": "python",
     "metadata": {},
     "outputs": []
    },
    {
     "cell_type": "code",
     "collapsed": false,
     "input": [],
     "language": "python",
     "metadata": {},
     "outputs": []
    },
    {
     "cell_type": "markdown",
     "metadata": {},
     "source": [
      "Votre r\u00e9ponse ici ..."
     ]
    },
    {
     "cell_type": "code",
     "collapsed": false,
     "input": [],
     "language": "python",
     "metadata": {},
     "outputs": []
    },
    {
     "cell_type": "heading",
     "level": 1,
     "metadata": {},
     "source": [
      "Bilan de l'activit\u00e9"
     ]
    },
    {
     "cell_type": "markdown",
     "metadata": {},
     "source": [
      "Nous avons r\u00e9ussi \u00e0 construire un algorithme permettant de calculer avec autant de pr\u00e9cision qu'on le souhaite les valeurs d'une fonction $f$ v\u00e9rifiant\n",
      "- $f(0)=1$\n",
      "- $f'(x)=f(x)$ pour tout $x$ r\u00e9el\n",
      "\n",
      "Nous avons pu calculer cette fonction pour n'importe quel $x$ r\u00e9el. Cela nous permet de nous convaincre de l'existance de la fonction exponentielle d\u00e9finie sur $\\mathbb R$ par les deux propri\u00e9t\u00e9s cit\u00e9es ci-dessus, m\u00eame si cela ne constitue pas une preuve formelle."
     ]
    },
    {
     "cell_type": "code",
     "collapsed": false,
     "input": [],
     "language": "python",
     "metadata": {},
     "outputs": []
    }
   ],
   "metadata": {}
  }
 ]
}