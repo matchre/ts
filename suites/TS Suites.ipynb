{
 "cells": [
  {
   "cell_type": "markdown",
   "metadata": {
    "collapsed": true
   },
   "source": [
    "# Chapitre Suites"
   ]
  },
  {
   "cell_type": "markdown",
   "metadata": {},
   "source": [
    "blabla"
   ]
  },
  {
   "cell_type": "code",
   "execution_count": null,
   "metadata": {
    "collapsed": true
   },
   "outputs": [],
   "source": []
  },
  {
   "cell_type": "code",
   "execution_count": 1,
   "metadata": {},
   "outputs": [
    {
     "data": {
      "text/html": [
       "\n",
       "        <iframe\n",
       "            width=\"400\"\n",
       "            height=\"300\"\n",
       "            src=\"https://www.youtube.com/embed/xti6mKAlMQo?t=59\"\n",
       "            frameborder=\"0\"\n",
       "            allowfullscreen\n",
       "        ></iframe>\n",
       "        "
      ],
      "text/plain": [
       "<IPython.lib.display.YouTubeVideo at 0x27327573320>"
      ]
     },
     "execution_count": 1,
     "metadata": {},
     "output_type": "execute_result"
    }
   ],
   "source": [
    "from IPython.display import YouTubeVideo\n",
    "YouTubeVideo('xti6mKAlMQo?t=59')"
   ]
  },
  {
   "cell_type": "markdown",
   "metadata": {},
   "source": [
    "Ici une suite arithmetico-geometrique: U(n+1)=0,5*U(n)+1 et U(0)=3.\n",
    "On veut, pour un indice n choisi, l'affichage de tous les termes dont l'indice est compris entre 0 et n."
   ]
  },
  {
   "cell_type": "code",
   "execution_count": 2,
   "metadata": {},
   "outputs": [
    {
     "name": "stdout",
     "output_type": "stream",
     "text": [
      "quel rang ?3\n",
      "u( 0 )= 31\n",
      "u( 1 )= 16.5\n",
      "u( 2 )= 9.25\n",
      "u( 3 )= 5.625\n"
     ]
    }
   ],
   "source": [
    "u=31                               # initialisation avec la valeur du premier terme\n",
    "n=int(input('quel rang ?'))   # on fixe un indice n\n",
    "for k in range(n):                # pour k variant de 0 a n-1\n",
    "    print('u(',k,')=',u)           # affichage du terme correspondant\n",
    "    u=0.5*u+1                     # calcul du terme suivant\n",
    "print('u(',n,')=',u)               # affichage du terme d'indice n"
   ]
  },
  {
   "cell_type": "markdown",
   "metadata": {
    "collapsed": true
   },
   "source": [
    "SEUIL Limite Finie\n",
    "\n",
    "Ici une suite arithmetico-geometrique qui converge vers 2: U(n+1)=0,5*U(n)+1 et U(0)=3.\n",
    "On choisit un reel e strictement positif et on veut obtenir le premier terme qui se situe a une distance de 2 inferieure a e."
   ]
  },
  {
   "cell_type": "code",
   "execution_count": null,
   "metadata": {},
   "outputs": [],
   "source": [
    "u=3;n=0                                              # initialisation avec la valeur du premier terme\n",
    "e=float(input('quelle distance de la limite?'))  # on fixe un reel e strictement positif\n",
    "while abs(u-2)>=e:                                   # car on veut le premier terme tel que dist(u,2)<e\n",
    "    u=0.5*u+1                                        # calcul d'un terme a partir du precedent\n",
    "    n=n+1                                            # calcul de l'indice correspondant\n",
    "print('u(',n,')=',u  )                                # car la condition n'etant plus remplie, on a obtenu un terme tel que dist(u,2)<e\n",
    "\n"
   ]
  },
  {
   "cell_type": "markdown",
   "metadata": {},
   "source": [
    "SEUIL Limite InFinie\n",
    "\n",
    "Ici une suite arithmtico-geometrique qui diverge vers +inf: U(n+1)=2U(n)+1 et U(0)=3.\n",
    "    On choisit un nombre e et on veut obtenir le premier terme plus grand que e"
   ]
  },
  {
   "cell_type": "code",
   "execution_count": null,
   "metadata": {
    "collapsed": true
   },
   "outputs": [],
   "source": [
    "u=3;n=0                                           # initialisation avec la valeur du premier terme\n",
    "e=float(input('plus grand que quel nombre'))  # on fixe un reel e aussi grand qu'on veut\n",
    "while u<=e:                                       # car on veut le premier terme plus grand que e\n",
    "    u=2*u+1                                       # calcul d'un terme a partir du precedent\n",
    "    n=n+1                                         # calcul de l'indice correspondant\n",
    "print('u(',n,')=',u)                               # car la condition n'etant plus remplie, on a obtenu un terme plus grand que e\n"
   ]
  },
  {
   "cell_type": "markdown",
   "metadata": {},
   "source": [
    "Somme de termes"
   ]
  },
  {
   "cell_type": "code",
   "execution_count": null,
   "metadata": {
    "collapsed": true
   },
   "outputs": [],
   "source": [
    "def u(n):\n",
    "  return n**2\n",
    "\n",
    "N = 50\n",
    "S = 0\n",
    "\n",
    "for k in range(N):\n",
    "  S = S + u(k)\n",
    "\n",
    "print('La somme des',N,'premiers termes vaut',S,'.')"
   ]
  },
  {
   "cell_type": "markdown",
   "metadata": {},
   "source": [
    "mé©thode de Héron"
   ]
  },
  {
   "cell_type": "code",
   "execution_count": 2,
   "metadata": {},
   "outputs": [
    {
     "data": {
      "image/jpeg": "[encoded data removed]",
      "text/html": [
       "\n",
       "        <iframe\n",
       "            width=\"400\"\n",
       "            height=\"300\"\n",
       "            src=\"https://www.youtube.com/embed/7dNF29NKhoM\"\n",
       "            frameborder=\"0\"\n",
       "            allowfullscreen\n",
       "        ></iframe>\n",
       "        "
      ],
      "text/plain": [
       "<IPython.lib.display.YouTubeVideo at 0x27327a56cc0>"
      ]
     },
     "execution_count": 2,
     "metadata": {},
     "output_type": "execute_result"
    }
   ],
   "source": [
    "from IPython.display import YouTubeVideo\n",
    "YouTubeVideo('7dNF29NKhoM')"
   ]
  },
  {
   "cell_type": "code",
   "execution_count": 1,
   "metadata": {},
   "outputs": [
    {
     "name": "stdout",
     "output_type": "stream",
     "text": [
      "1.414213562373095\n",
      "1.4142135623730951\n"
     ]
    }
   ],
   "source": [
    "from math import sqrt\n",
    "\n",
    "def heron(a,x_0,nb_iter):\n",
    "    nb = 1\n",
    "    x_n = x_0\n",
    "    while nb <= nb_iter:\n",
    "        x_n = (x_n+a/x_n)/2\n",
    "        nb += 1\n",
    "    return x_n\n",
    "\n",
    "print(heron(2,1,5)) # estimation de racine(2) avec 5 itÃ©rations\n",
    "print(sqrt(2))      # valeur donnÃ©e par sqrt(2)"
   ]
  },
  {
   "cell_type": "code",
   "execution_count": null,
   "metadata": {
    "collapsed": true
   },
   "outputs": [],
   "source": []
  },
  {
   "cell_type": "markdown",
   "metadata": {},
   "source": [
    "Méthode de Newton"
   ]
  },
  {
   "cell_type": "code",
   "execution_count": null,
   "metadata": {
    "collapsed": true
   },
   "outputs": [],
   "source": [
    "# Une fonction et sa dérivée\n",
    "def f(x):\n",
    "    return -x**5+x+3\n",
    "def df(x):\n",
    "    return -5*x**4+1\n",
    "\n",
    "\n",
    "# Résolution de l'équation f(x)=0\n",
    "def newton(x0):\n",
    "    for k in range(20):\n",
    "        x0 = (df(x0)*x0-f(x0))/df(x0)\n",
    "    return x0\n",
    "\n",
    "alpha = newton(5)\n",
    "print(alpha, f(alpha))"
   ]
  },
  {
   "cell_type": "markdown",
   "metadata": {},
   "source": [
    " \\frac{-x+3}{\\frac{-3}{2}}"
   ]
  },
  {
   "cell_type": "code",
   "execution_count": 3,
   "metadata": {},
   "outputs": [
    {
     "data": {
      "image/png": "[encoded data removed]",
      "text/plain": [
       "<matplotlib.figure.Figure at 0x27327b5b278>"
      ]
     },
     "metadata": {},
     "output_type": "display_data"
    }
   ],
   "source": [
    "\"\"\"\n",
    "Programme pour calculer et représenter les itérés de l'application quadratique\n",
    "\"\"\"\n",
    "\n",
    "\n",
    "#appel des bibliothèques scientifiques\n",
    "from matplotlib import pyplot as plt\n",
    "import numpy as np\n",
    "\n",
    "#paramètres du modèle\n",
    "r = 4\n",
    "\n",
    "# l'application quadratique\n",
    "\"\"\"\n",
    "x0 donné\n",
    "x_{n+1} = 4 x_n (1 - x_n)\n",
    "\"\"\"\n",
    "\n",
    "# valeurs de f\n",
    "s = np.arange(0,1.01,0.01)\n",
    "def f(s):\n",
    "    return r*s*(1-s)\n",
    "fs = []\n",
    "for i in s:\n",
    "    fs = fs + [f(i)]\n",
    "\n",
    "# calcul des itérés\n",
    "N = 12\n",
    "x0, y0 = 0.2, 0.199\n",
    "X, Y = [x0], [y0]\n",
    "\n",
    "for i in range(N):\n",
    "    x = f(x0)\n",
    "    X = X + [x]\n",
    "    x0 = x\n",
    "\n",
    "for i in range(N):\n",
    "    y = f(y0)\n",
    "    Y = Y + [y]\n",
    "    y0 = y\n",
    "\n",
    "\n",
    "\n",
    "#représentation graphique\n",
    "    \n",
    "fig, ax = plt.subplots(figsize=(8,8))\n",
    "\n",
    "# orbite issue de x0\n",
    "ax.plot([X[0], X[0]], [0,  X[1]], color='b', linewidth=1.5)\n",
    "for i in range(N-2):\n",
    "    ax.plot([X[i], X[i+1]], [X[i+1],X[i+1]],color='b', linewidth=1.5)\n",
    "    ax.plot([X[i+1], X[i+1]], [X[i+1], X[i+2]], color='b', linewidth=1.5)\n",
    "ax.scatter(0.2, 0, s=50, color='b', marker='o')\n",
    "ax.scatter(X[N-2],X[N-1]-0.05, s=60, color='b', marker='^')\n",
    "ax.annotate(r\"$u_0$\", xy=(0.21,-0.05), fontsize=28)\n",
    "ax.annotate(r\"$y=x$\", xy=(1.02,1.02), fontsize=18)\n",
    "ax.annotate(r\"$\\mathscr{C}_f$\", xy=(0.2,0.85), fontsize=24)\n",
    "\n",
    "#orbite issue de y0 \n",
    "\"\"\"\n",
    "ax.plot([Y[0], Y[0]], [0,  Y[1]], color='r')\n",
    "for i in range(N-2):\n",
    "    ax.plot([Y[i], Y[i+1]], [Y[i+1],Y[i+1]],color='r')\n",
    "    ax.plot([Y[i+1], Y[i+1]], [Y[i+1], Y[i+2]], color='r')\n",
    "\"\"\"\n",
    "\n",
    "ax.plot(s, fs, 'g', linewidth=3)\n",
    "ax.plot(s, s, 'gray')\n",
    "ax.spines['right'].set_visible(False)\n",
    "ax.spines['top'].set_visible(False)\n",
    "ax.yaxis.set_ticks_position('left')\n",
    "ax.xaxis.set_ticks_position('bottom')\n",
    "ax.set_xlim(-0.1,1.2)\n",
    "ax.set_ylim(-0.1,1.1)\n",
    "ax.grid()\n",
    "\n",
    "plt.show()"
   ]
  },
  {
   "cell_type": "code",
   "execution_count": null,
   "metadata": {
    "collapsed": true
   },
   "outputs": [],
   "source": []
  }
 ],
 "metadata": {
  "kernelspec": {
   "display_name": "Python 3",
   "language": "python",
   "name": "python3"
  },
  "language_info": {
   "codemirror_mode": {
    "name": "ipython",
    "version": 3
   },
   "file_extension": ".py",
   "mimetype": "text/x-python",
   "name": "python",
   "nbconvert_exporter": "python",
   "pygments_lexer": "ipython3",
   "version": "3.6.1"
  },
  "widgets": {
   "state": {},
   "version": "1.1.2"
  }
 },
 "nbformat": 4,
 "nbformat_minor": 1
}
