{
 "cells": [
  {
   "cell_type": "code",
   "execution_count": 1,
   "metadata": {},
   "outputs": [
    {
     "name": "stdout",
     "output_type": "stream",
     "text": [
      "\n",
      "Welcome to pylab, a matplotlib-based Python environment [backend: module://IPython.zmq.pylab.backend_inline].\n",
      "For more information, type 'help(pylab)'.\n"
     ]
    }
   ],
   "source": [
    "%pylab inline"
   ]
  },
  {
   "cell_type": "markdown",
   "metadata": {},
   "source": [
    "# Calcul des premiers termes des suites u et v"
   ]
  },
  {
   "cell_type": "code",
   "execution_count": 2,
   "metadata": {},
   "outputs": [
    {
     "name": "stdout",
     "output_type": "stream",
     "text": [
      "  1   1\n",
      "  2   2\n",
      "  4   4\n",
      "  8   8\n",
      " 16  16\n",
      " 32  32\n",
      " 64  64\n",
      "128 128\n"
     ]
    }
   ],
   "source": [
    "def u(n):\n",
    "    if n==0 : return 1\n",
    "    return u(n-1)+u(n-1)\n",
    "    \n",
    "def v(n):\n",
    "    if n==0 : return 1\n",
    "    return 2*v(n-1)\n",
    "    \n",
    "    \n",
    "for i in range(8) :\n",
    "\tprint '%3d %3d' %(u(i), v(i))"
   ]
  },
  {
   "cell_type": "markdown",
   "metadata": {},
   "source": [
    "# Calcul de u(26) et v(26) : affichage du temps"
   ]
  },
  {
   "cell_type": "code",
   "execution_count": 3,
   "metadata": {},
   "outputs": [
    {
     "name": "stdout",
     "output_type": "stream",
     "text": [
      "0.000134944915771\n"
     ]
    }
   ],
   "source": [
    "import time\n",
    "\n",
    "start = time.time()\n",
    "v(26)\n",
    "print time.time() - start\n",
    " "
   ]
  },
  {
   "cell_type": "code",
   "execution_count": 4,
   "metadata": {},
   "outputs": [
    {
     "name": "stdout",
     "output_type": "stream",
     "text": [
      "21.0937569141\n"
     ]
    }
   ],
   "source": [
    "start = time.time()\n",
    "u(26)\n",
    "print time.time() - start"
   ]
  },
  {
   "cell_type": "markdown",
   "metadata": {},
   "source": [
    "# Courbes des temps de calculs"
   ]
  },
  {
   "cell_type": "code",
   "execution_count": 5,
   "metadata": {},
   "outputs": [
    {
     "data": {
      "image/png": "[encoded data removed]"
     },
     "metadata": {},
     "output_type": "display_data"
    }
   ],
   "source": [
    "def temps(f,L):\n",
    "    tps=[]# contiendra une liste de temps de calcul\n",
    "    for j in L:\n",
    "        start = time.time()\n",
    "        f(j)\n",
    "        dureeCalcul=time.time() - start # dureeCalcul=temps de calcul de f(j)\n",
    "        tps.append(dureeCalcul)\n",
    "    return tps\n",
    "\n",
    "X=range(10,23) \n",
    " \n",
    "Yu=temps(u,X)# liste des temps de calcul de u(10), u(11), u(12), ..., u(22)\n",
    "Yv=temps(v,X)# liste des temps de calcul de v(10), v(11), v(12), ..., v(22)\n",
    "axis([min(X),max(X),-0.05*(max(Yu)-min(Yu)),max(Yu)])# paramètres d'ouverture pour fenêtre graphique\n",
    "plot(X,Yu,'r--') #   rouge tireté\n",
    "plot(X,Yv,'b*')#   bleu étoilé\n",
    "show()"
   ]
  },
  {
   "cell_type": "markdown",
   "metadata": {},
   "source": [
    "# Pour comprendre ce qui distingue les deux fonctions"
   ]
  },
  {
   "cell_type": "code",
   "execution_count": 6,
   "metadata": {},
   "outputs": [
    {
     "name": "stdout",
     "output_type": "stream",
     "text": [
      "\u001b[01;31m++++++++++++++++++++++++++++++++appel de v(3)\u001b[00m\n",
      "\u001b[1;36m++++++++++++++++++appel de v(2)\u001b[00m\n",
      "\u001b[1;32m++++++++appel de v(1)\u001b[00m\n",
      "\u001b[1;34m++appel de v(0)\u001b[00m\n",
      "\u001b[1;34m--sortie de v(0)\u001b[00m\n",
      "\u001b[1;32m--------sortie de v(1)\u001b[00m\n",
      "\u001b[1;36m------------------sortie de v(2)\u001b[00m\n",
      "\u001b[01;31m--------------------------------sortie de v(3)\u001b[00m\n",
      "\n",
      "\n",
      "\n",
      "\n",
      "\n",
      "\n",
      "\u001b[1;43m++++++++++++++++++++++++++++++++appel de u(3) (premier terme)\u001b[00m\n",
      "\u001b[01;31m++++++++++++++++++appel de u(2) (premier terme)\u001b[00m\n",
      "\u001b[1;36m++++++++appel de u(1) (premier terme)\u001b[00m\n",
      "\u001b[1;32m++appel de u(0) (premier terme)\u001b[00m\n",
      "\u001b[1;32m--sortie de u(0) (premier terme)\u001b[00m\n",
      "\u001b[1;32m++appel de u(0) (second terme)\u001b[00m\n",
      "\u001b[1;32m--sortie de u(0) (second terme)\u001b[00m\n",
      "\u001b[1;36m--------sortie de u(1) (premier terme)\u001b[00m\n",
      "\u001b[1;36m++++++++appel de u(1) (second terme)\u001b[00m\n",
      "\u001b[1;32m++appel de u(0) (premier terme)\u001b[00m\n",
      "\u001b[1;32m--sortie de u(0) (premier terme)\u001b[00m\n",
      "\u001b[1;32m++appel de u(0) (second terme)\u001b[00m\n",
      "\u001b[1;32m--sortie de u(0) (second terme)\u001b[00m\n",
      "\u001b[1;36m--------sortie de u(1) (second terme)\u001b[00m\n",
      "\u001b[01;31m------------------sortie de u(2) (premier terme)\u001b[00m\n",
      "\u001b[01;31m++++++++++++++++++appel de u(2) (second terme)\u001b[00m\n",
      "\u001b[1;36m++++++++appel de u(1) (premier terme)\u001b[00m\n",
      "\u001b[1;32m++appel de u(0) (premier terme)\u001b[00m\n",
      "\u001b[1;32m--sortie de u(0) (premier terme)\u001b[00m\n",
      "\u001b[1;32m++appel de u(0) (second terme)\u001b[00m\n",
      "\u001b[1;32m--sortie de u(0) (second terme)\u001b[00m\n",
      "\u001b[1;36m--------sortie de u(1) (premier terme)\u001b[00m\n",
      "\u001b[1;36m++++++++appel de u(1) (second terme)\u001b[00m\n",
      "\u001b[1;32m++appel de u(0) (premier terme)\u001b[00m\n",
      "\u001b[1;32m--sortie de u(0) (premier terme)\u001b[00m\n",
      "\u001b[1;32m++appel de u(0) (second terme)\u001b[00m\n",
      "\u001b[1;32m--sortie de u(0) (second terme)\u001b[00m\n",
      "\u001b[1;36m--------sortie de u(1) (second terme)\u001b[00m\n",
      "\u001b[01;31m------------------sortie de u(2) (second terme)\u001b[00m\n",
      "\u001b[1;43m--------------------------------sortie de u(3) (premier terme)\u001b[00m\n",
      "\u001b[1;43m++++++++++++++++++++++++++++++++appel de u(3) (second terme)\u001b[00m\n",
      "\u001b[01;31m++++++++++++++++++appel de u(2) (premier terme)\u001b[00m\n",
      "\u001b[1;36m++++++++appel de u(1) (premier terme)\u001b[00m\n",
      "\u001b[1;32m++appel de u(0) (premier terme)\u001b[00m\n",
      "\u001b[1;32m--sortie de u(0) (premier terme)\u001b[00m\n",
      "\u001b[1;32m++appel de u(0) (second terme)\u001b[00m\n",
      "\u001b[1;32m--sortie de u(0) (second terme)\u001b[00m\n",
      "\u001b[1;36m--------sortie de u(1) (premier terme)\u001b[00m\n",
      "\u001b[1;36m++++++++appel de u(1) (second terme)\u001b[00m\n",
      "\u001b[1;32m++appel de u(0) (premier terme)\u001b[00m\n",
      "\u001b[1;32m--sortie de u(0) (premier terme)\u001b[00m\n",
      "\u001b[1;32m++appel de u(0) (second terme)\u001b[00m\n",
      "\u001b[1;32m--sortie de u(0) (second terme)\u001b[00m\n",
      "\u001b[1;36m--------sortie de u(1) (second terme)\u001b[00m\n",
      "\u001b[01;31m------------------sortie de u(2) (premier terme)\u001b[00m\n",
      "\u001b[01;31m++++++++++++++++++appel de u(2) (second terme)\u001b[00m\n",
      "\u001b[1;36m++++++++appel de u(1) (premier terme)\u001b[00m\n",
      "\u001b[1;32m++appel de u(0) (premier terme)\u001b[00m\n",
      "\u001b[1;32m--sortie de u(0) (premier terme)\u001b[00m\n",
      "\u001b[1;32m++appel de u(0) (second terme)\u001b[00m\n",
      "\u001b[1;32m--sortie de u(0) (second terme)\u001b[00m\n",
      "\u001b[1;36m--------sortie de u(1) (premier terme)\u001b[00m\n",
      "\u001b[1;36m++++++++appel de u(1) (second terme)\u001b[00m\n",
      "\u001b[1;32m++appel de u(0) (premier terme)\u001b[00m\n",
      "\u001b[1;32m--sortie de u(0) (premier terme)\u001b[00m\n",
      "\u001b[1;32m++appel de u(0) (second terme)\u001b[00m\n",
      "\u001b[1;32m--sortie de u(0) (second terme)\u001b[00m\n",
      "\u001b[1;36m--------sortie de u(1) (second terme)\u001b[00m\n",
      "\u001b[01;31m------------------sortie de u(2) (second terme)\u001b[00m\n",
      "\u001b[1;43m--------------------------------sortie de u(3) (second terme)\u001b[00m\n"
     ]
    },
    {
     "data": {
      "text/plain": [
       "16"
      ]
     },
     "execution_count": 6,
     "metadata": {},
     "output_type": "execute_result"
    }
   ],
   "source": [
    "c=[]\n",
    "c.append(\"\\033[01;31m{0}\\033[00m\")\n",
    "c.append('\\033[1;36m{0}\\033[00m')\n",
    "c.append('\\033[1;32m{0}\\033[00m')\n",
    "c.append('\\033[1;34m{0}\\033[00m')\n",
    "\n",
    "c.append('\\033[1;46m{0}\\033[00m')\n",
    "c.append('\\033[1;32m{0}\\033[00m')\n",
    "c.append('\\033[1;33m{0}\\033[00m')\n",
    "c.append('\\033[1;34m{0}\\033[00m')\n",
    "c.append('\\033[1;35m{0}\\033[00m')\n",
    "c.append('\\033[1;38m{0}\\033[00m')\n",
    "c.append('\\033[1;41m{0}\\033[00m')\n",
    "c.append('\\033[1;43m{0}\\033[00m')\n",
    "\n",
    "\n",
    "nb=len(c)\n",
    " \n",
    "\n",
    "def uu(n,color=-1):\n",
    "    if n==0 : return 1\n",
    "    else:\n",
    "        print c[color].format('++'*(n**2)+\"appel de u({}) (premier terme)\".format(n-1))\n",
    "        y=uu(n-1,(color+1)%nb) \n",
    "        print c[color].format('--'*(n**2)+\"sortie de u({}) (premier terme)\".format(n-1))\n",
    "        print c[color].format('++'*(n**2)+\"appel de u({}) (second terme)\".format(n-1))\n",
    "        y+=uu(n-1,(color+1)%nb) \n",
    "        print c[color].format('--'*(n**2)+\"sortie de u({}) (second terme)\".format(n-1))\n",
    "        return y\n",
    "    \n",
    "def vv(n,color=-1):\n",
    "    if n==0 : return 1\n",
    "    else:\n",
    "        color=(color+1)%nb\n",
    "        print c[color].format('++'*(n**2)+\"appel de v({})\".format(n-1))\n",
    "        y=2*vv(n-1,color)\n",
    "        print c[color].format('--'*(n**2)+\"sortie de v({})\".format(n-1))\n",
    "        return y\n",
    "    \n",
    "    \n",
    "vv(4)\n",
    "print \"\\n\\n\\n\\n\\n\"\n",
    "uu(4)"
   ]
  },
  {
   "cell_type": "markdown",
   "metadata": {},
   "source": [
    "# Courbes des nombres d'opérations"
   ]
  },
  {
   "cell_type": "code",
   "execution_count": 7,
   "metadata": {},
   "outputs": [
    {
     "name": "stdout",
     "output_type": "stream",
     "text": [
      "  0   0\n",
      "  1   1\n",
      "  3   2\n",
      "  7   3\n",
      " 15   4\n",
      " 31   5\n",
      " 63   6\n",
      "127   7\n",
      "255   8\n",
      "511   9\n"
     ]
    }
   ],
   "source": [
    "def opu(n):\n",
    "    if n==0 : return 0\n",
    "    return 1+2*opu(n-1)\n",
    "    \n",
    "def opv(n):\n",
    "    if n==0 : return 0\n",
    "    return 1+opv(n-1)\n",
    "    \n",
    "    \n",
    "for i in range(10) :\n",
    "\tprint '%3d %3d' %(opu(i), opv(i))"
   ]
  },
  {
   "cell_type": "code",
   "execution_count": 8,
   "metadata": {},
   "outputs": [
    {
     "data": {
      "image/png": "[encoded data removed]"
     },
     "metadata": {},
     "output_type": "display_data"
    }
   ],
   "source": [
    "X=range(10,23) \n",
    " \n",
    "Yopu=[opu(x) for x in X]\n",
    "Yopv=[opv(x) for x in X]\n",
    "axis([min(X),max(X),-0.05*(max(Yopu)-min(Yopu)),max(Yopu)])# paramètres d'ouverture pour fenêtre graphique\n",
    "plot(X,Yopu,'r--',X,Yopv,'b*')  \n",
    " \n",
    "show()"
   ]
  },
  {
   "cell_type": "markdown",
   "metadata": {},
   "source": [
    "### Décompte des opérations par la machine"
   ]
  },
  {
   "cell_type": "code",
   "execution_count": 16,
   "metadata": {},
   "outputs": [],
   "source": [
    "\n",
    "def NbOpU(n):\n",
    "    l=[0]\n",
    "    def u(n):\n",
    "        if n==0 : \n",
    "            return 1\n",
    "        else :\n",
    "            y=u(n-1)+u(n-1)\n",
    "            l[0]+=1\n",
    "            return y\n",
    "    u(n)\n",
    "    return l[0]\n",
    "    \n",
    "    \n",
    "def NbOpV(n):\n",
    "    l=[0]\n",
    "    def v(n):\n",
    "        if n==0 : \n",
    "            return 1\n",
    "        else :\n",
    "            y=2*v(n-1)\n",
    "            l[0]+=1\n",
    "            return y\n",
    "    v(n)\n",
    "    return l[0]"
   ]
  },
  {
   "cell_type": "code",
   "execution_count": 17,
   "metadata": {},
   "outputs": [
    {
     "name": "stdout",
     "output_type": "stream",
     "text": [
      "15\n",
      "4\n"
     ]
    }
   ],
   "source": [
    "print NbOpU(4)\n",
    "print NbOpV(4)"
   ]
  },
  {
   "cell_type": "markdown",
   "metadata": {},
   "source": [
    "# Estimation du temps de calcul de u(27) à partir de celui de u(22)."
   ]
  },
  {
   "cell_type": "markdown",
   "metadata": {},
   "source": [
    "### Temps de calcul de u(22)"
   ]
  },
  {
   "cell_type": "code",
   "execution_count": 9,
   "metadata": {},
   "outputs": [
    {
     "name": "stdout",
     "output_type": "stream",
     "text": [
      "1.23486089706\n"
     ]
    }
   ],
   "source": [
    "start = time.time()\n",
    "u(22)\n",
    "tempsu22=time.time() - start\n",
    "print tempsu22"
   ]
  },
  {
   "cell_type": "markdown",
   "metadata": {},
   "source": [
    "### Estimation d'un temps pour u(27)"
   ]
  },
  {
   "cell_type": "code",
   "execution_count": 10,
   "metadata": {},
   "outputs": [
    {
     "data": {
      "text/plain": [
       "39.51554870605469"
      ]
     },
     "execution_count": 10,
     "metadata": {},
     "output_type": "execute_result"
    }
   ],
   "source": [
    "tempsu22*2**5"
   ]
  },
  {
   "cell_type": "markdown",
   "metadata": {},
   "source": [
    "### Mesure expérimentale du temps pour le calcul de u(27)"
   ]
  },
  {
   "cell_type": "code",
   "execution_count": 11,
   "metadata": {},
   "outputs": [
    {
     "name": "stdout",
     "output_type": "stream",
     "text": [
      "42.5974290371\n"
     ]
    }
   ],
   "source": [
    "start = time.time()\n",
    "u(27)\n",
    "tempsu27=time.time() - start\n",
    "print tempsu27"
   ]
  },
  {
   "cell_type": "markdown",
   "metadata": {},
   "source": [
    "# Temps linéaire pour la suite v"
   ]
  },
  {
   "cell_type": "markdown",
   "metadata": {},
   "source": [
    "### vraiment linéaire ?"
   ]
  },
  {
   "cell_type": "code",
   "execution_count": 12,
   "metadata": {},
   "outputs": [
    {
     "data": {
      "image/png": "[encoded data removed]"
     },
     "metadata": {},
     "output_type": "display_data"
    }
   ],
   "source": [
    "X=range(10,22) \n",
    "Y=temps(v,X) \n",
    "plot(X,Y,'b*')\n",
    "show()"
   ]
  },
  {
   "cell_type": "markdown",
   "metadata": {},
   "source": [
    "### plus convaincant"
   ]
  },
  {
   "cell_type": "code",
   "execution_count": 13,
   "metadata": {},
   "outputs": [
    {
     "data": {
      "image/png": "[encoded data removed]"
     },
     "metadata": {},
     "output_type": "display_data"
    }
   ],
   "source": [
    "import timeit\n",
    "def tempsAvecCalculsRepetes(L):\n",
    "    tps=[]# contiendra une liste de temps de calcul\n",
    "    for j in L:\n",
    "        timeit.timeit(number=100000000)\n",
    "        t = timeit.Timer(stmt=\"v(%d)\"%j, setup=\"from __main__ import v\")  \n",
    "        tps.append(t.timeit() )\n",
    "    return tps\n",
    "    \n",
    "    \n",
    "X=range(10,22) \n",
    "Y=tempsAvecCalculsRepetes(X) \n",
    "plot(X,Y,'b*')\n",
    "show()"
   ]
  },
  {
   "cell_type": "code",
   "execution_count": 13,
   "metadata": {},
   "outputs": [],
   "source": []
  }
 ],
 "metadata": {
  "kernelspec": {
   "display_name": "Python 3",
   "language": "python",
   "name": "python3"
  },
  "language_info": {
   "codemirror_mode": {
    "name": "ipython",
    "version": 3
   },
   "file_extension": ".py",
   "mimetype": "text/x-python",
   "name": "python",
   "nbconvert_exporter": "python",
   "pygments_lexer": "ipython3",
   "version": "3.6.1"
  },
  "widgets": {
   "state": {},
   "version": "1.1.2"
  }
 },
 "nbformat": 4,
 "nbformat_minor": 1
}
