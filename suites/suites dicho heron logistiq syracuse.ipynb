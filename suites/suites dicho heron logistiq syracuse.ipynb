{
 "cells": [
  {
   "cell_type": "markdown",
   "metadata": {
    "slideshow": {
     "slide_type": "slide"
    }
   },
   "source": [
    "# SUITES "
   ]
  },
  {
   "cell_type": "markdown",
   "metadata": {
    "slideshow": {
     "slide_type": "subslide"
    }
   },
   "source": [
    "# DICHOTOMIE"
   ]
  },
  {
   "cell_type": "code",
   "execution_count": 1,
   "metadata": {},
   "outputs": [
    {
     "name": "stdout",
     "output_type": "stream",
     "text": [
      "-0.68359375 -0.003037393093109131\n"
     ]
    }
   ],
   "source": [
    "\n",
    "def f(x):\n",
    "    return x**3+x+1\n",
    "\n",
    "def recherche_zero_dichotomie(f,a,b,p):\n",
    "    precision = 10**(-p)\n",
    "    if f(a)*f(b) > 0: return(None)\n",
    "    \n",
    "    while b-a > precision: \n",
    "        c = (a+b)/2.\n",
    "        if f(a)*f(c) > 0:\n",
    "            a = c \n",
    "        else: \n",
    "            b = c\n",
    "    print(a,f(a))  # la solution et la verification\n",
    "\n",
    "recherche_zero_dichotomie(f,-10,10,2)"
   ]
  },
  {
   "cell_type": "markdown",
   "metadata": {
    "collapsed": true,
    "slideshow": {
     "slide_type": "slide"
    }
   },
   "source": [
    "# suite_de_Syracuse"
   ]
  },
  {
   "cell_type": "code",
   "execution_count": 2,
   "metadata": {},
   "outputs": [
    {
     "name": "stdout",
     "output_type": "stream",
     "text": [
      "3 10 5 16 8 4 2 1\n"
     ]
    }
   ],
   "source": [
    "\n",
    "#http://profgra.org/lycee/activite_suite_de_Syracuse.html#en-python\n",
    "n = 3\n",
    "while n != 1:\n",
    "    print(n, end=' ')\n",
    "    if n%2 == 0:\n",
    "        n = n//2\n",
    "    else:\n",
    "        n = 3*n + 1\n",
    "print(1)"
   ]
  },
  {
   "cell_type": "markdown",
   "metadata": {
    "collapsed": true,
    "slideshow": {
     "slide_type": "slide"
    }
   },
   "source": [
    "# Heron"
   ]
  },
  {
   "cell_type": "code",
   "execution_count": 3,
   "metadata": {},
   "outputs": [
    {
     "name": "stdout",
     "output_type": "stream",
     "text": [
      "1.4142156862745097\n"
     ]
    }
   ],
   "source": [
    "def heron(a,u0,precision):\n",
    "    #determine une approximation de racine de a en partant de u0\n",
    "    u=float(0.5*(u0+a/u0))\n",
    "    while abs(u-a/u)>precision:\n",
    "        u=0.5*(u+a/u)\n",
    "    print(u)\n",
    "\n",
    "heron(2,1,0.001)"
   ]
  },
  {
   "cell_type": "markdown",
   "metadata": {
    "slideshow": {
     "slide_type": "slide"
    }
   },
   "source": [
    "# suite logistique"
   ]
  },
  {
   "cell_type": "code",
   "execution_count": 4,
   "metadata": {},
   "outputs": [
    {
     "name": "stdout",
     "output_type": "stream",
     "text": [
      "0.36000000000000004\n",
      "0.9216\n",
      "0.28901376000000006\n",
      "0.8219392261226498\n",
      "0.5854205387341974\n",
      "0.970813326249438\n",
      "0.11333924730376121\n",
      "0.4019738492975123\n",
      "0.9615634951138128\n",
      "0.1478365599132853\n",
      "0.5039236458651636\n",
      "0.9999384200124991\n",
      "0.0002463047816241282\n",
      "0.0009849764623147091\n",
      "0.00393602513473358\n",
      "0.015682131363489303\n",
      "0.061744808477550275\n",
      "0.23172954841448365\n",
      "0.7121238592244125\n",
      "0.8200138733909665\n"
     ]
    }
   ],
   "source": [
    "u=0.1\n",
    "for n in range(20):\n",
    "    u=4*u*(1-u)\n",
    "    print(u)"
   ]
  },
  {
   "cell_type": "code",
   "execution_count": null,
   "metadata": {
    "collapsed": true
   },
   "outputs": [],
   "source": []
  }
 ],
 "metadata": {
  "celltoolbar": "Slideshow",
  "kernelspec": {
   "display_name": "Python 3",
   "language": "python",
   "name": "python3"
  },
  "language_info": {
   "codemirror_mode": {
    "name": "ipython",
    "version": 3
   },
   "file_extension": ".py",
   "mimetype": "text/x-python",
   "name": "python",
   "nbconvert_exporter": "python",
   "pygments_lexer": "ipython3",
   "version": "3.6.1"
  },
  "widgets": {
   "state": {},
   "version": "1.1.2"
  }
 },
 "nbformat": 4,
 "nbformat_minor": 1
}
